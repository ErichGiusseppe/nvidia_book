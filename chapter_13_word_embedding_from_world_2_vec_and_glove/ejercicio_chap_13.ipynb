{
 "cells": [
  {
   "cell_type": "code",
   "execution_count": null,
   "id": "0c12cdc7",
   "metadata": {},
   "outputs": [],
   "source": [
    "import numpy as np \n",
    "import scipy.spatial\n",
    "\n",
    "def read_embedding():\n",
    "    FILE_NAME = '../data/glove.6B.100d.txt'\n",
    "    embeddings = {}\n",
    "    file = open(FILE_NAME,'r',encoding='utf-8')\n",
    "    for line in file:\n",
    "        values = line.split()\n",
    "        word = values[0]\n",
    "        vector = np.asarray(values[1:], dtype='float32')\n",
    "        embeddings[word] = vector \n",
    "    file.close()\n",
    "    print('Read %s embeddings. ' % len(embeddings))\n",
    "    return embeddings\n",
    "def print_n_closest(embeddings,vec0,n):\n",
    "    word_distances = {}\n",
    "    for (word, vec1) in embeddings.items():\n",
    "        distance = scipy.spartial.distance.cosine(\n",
    "            vec1,vec0\n",
    "        )\n",
    "        word_distances[distance] = word\n",
    "    for distance in sorted(word_distances.keys())[:n]:\n",
    "        word = word_distances[distance]\n",
    "        print(word + ': %6.3f' % distance)"
   ]
  }
 ],
 "metadata": {
  "language_info": {
   "name": "python"
  }
 },
 "nbformat": 4,
 "nbformat_minor": 5
}
