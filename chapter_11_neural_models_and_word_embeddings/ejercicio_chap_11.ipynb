{
 "cells": [
  {
   "cell_type": "code",
   "execution_count": null,
   "id": "8dcde49b",
   "metadata": {},
   "outputs": [],
   "source": [
    "import numpy as np\n",
    "from tensorflow.keras.models import Sequential\n",
    "from tensorflow.keras.layers import Dense\n",
    "from tensorflow.keras.layers import LSTM\n",
    "from tensorflow.keras.layers import Embedding   \n",
    "from tensorflow.keras.preprocessing.text import Tokenizer\n",
    "from tensorflow.keras.preprocessing.text import text_to_word_sequence\n",
    "import tensorflow as tf\n",
    "import logging\n",
    "\n",
    "\n",
    "tf.get_logger().setLevel(logging.ERROR)\n",
    "\n",
    "EPOCHS = 32\n",
    "BATCH_SIZE = 256\n",
    "INPUT_FILE_NAME = \"../data/frankenstein.txt\"\n",
    "WINDOW_LENGHT = 40\n",
    "WINDOW_STEP = 3\n",
    "PREDICT_LENGTH = 3\n",
    "MAX_WORDS = 10000\n",
    "EMBEDDING_WIDTH = 100"
   ]
  },
  {
   "cell_type": "code",
   "execution_count": 38,
   "id": "d4487354",
   "metadata": {},
   "outputs": [],
   "source": [
    "file = open(INPUT_FILE_NAME, \"r\", encoding=\"utf-8-sig\")\n",
    "text = file.read()\n",
    "file.close()\n",
    "\n",
    "text = text_to_word_sequence(text)\n",
    "\n",
    "fragments = []\n",
    "targets = []\n",
    "for i in range(0, len(text) - WINDOW_LENGHT, WINDOW_STEP):\n",
    "    fragments.append(text[i : i + WINDOW_LENGHT])\n",
    "    targets.append(text[i + WINDOW_LENGHT])\n",
    "\n",
    "tokenizer = Tokenizer(num_words=MAX_WORDS, oov_token=\"UNK\")\n",
    "tokenizer.fit_on_texts(text)\n",
    "fragments_indexed = tokenizer.texts_to_sequences(fragments)\n",
    "targets_indexed = tokenizer.texts_to_sequences(targets)\n",
    "\n",
    "X = np.array(fragments_indexed, dtype=np.int64)\n",
    "y = np.zeros((len(targets_indexed), MAX_WORDS))\n",
    "for i, target_index in enumerate(targets_indexed):\n",
    "    y[i, target_index] = 1\n",
    "\n"
   ]
  },
  {
   "cell_type": "code",
   "execution_count": 39,
   "id": "51dedd64",
   "metadata": {},
   "outputs": [
    {
     "data": {
      "text/html": [
       "<pre style=\"white-space:pre;overflow-x:auto;line-height:normal;font-family:Menlo,'DejaVu Sans Mono',consolas,'Courier New',monospace\"><span style=\"font-weight: bold\">Model: \"sequential_13\"</span>\n",
       "</pre>\n"
      ],
      "text/plain": [
       "\u001b[1mModel: \"sequential_13\"\u001b[0m\n"
      ]
     },
     "metadata": {},
     "output_type": "display_data"
    },
    {
     "data": {
      "text/html": [
       "<pre style=\"white-space:pre;overflow-x:auto;line-height:normal;font-family:Menlo,'DejaVu Sans Mono',consolas,'Courier New',monospace\">┏━━━━━━━━━━━━━━━━━━━━━━━━━━━━━━━━━┳━━━━━━━━━━━━━━━━━━━━━━━━┳━━━━━━━━━━━━━━━┓\n",
       "┃<span style=\"font-weight: bold\"> Layer (type)                    </span>┃<span style=\"font-weight: bold\"> Output Shape           </span>┃<span style=\"font-weight: bold\">       Param # </span>┃\n",
       "┡━━━━━━━━━━━━━━━━━━━━━━━━━━━━━━━━━╇━━━━━━━━━━━━━━━━━━━━━━━━╇━━━━━━━━━━━━━━━┩\n",
       "│ embedding_16 (<span style=\"color: #0087ff; text-decoration-color: #0087ff\">Embedding</span>)        │ ?                      │   <span style=\"color: #00af00; text-decoration-color: #00af00\">0</span> (unbuilt) │\n",
       "├─────────────────────────────────┼────────────────────────┼───────────────┤\n",
       "│ lstm_19 (<span style=\"color: #0087ff; text-decoration-color: #0087ff\">LSTM</span>)                  │ ?                      │   <span style=\"color: #00af00; text-decoration-color: #00af00\">0</span> (unbuilt) │\n",
       "├─────────────────────────────────┼────────────────────────┼───────────────┤\n",
       "│ lstm_20 (<span style=\"color: #0087ff; text-decoration-color: #0087ff\">LSTM</span>)                  │ ?                      │   <span style=\"color: #00af00; text-decoration-color: #00af00\">0</span> (unbuilt) │\n",
       "├─────────────────────────────────┼────────────────────────┼───────────────┤\n",
       "│ dense_18 (<span style=\"color: #0087ff; text-decoration-color: #0087ff\">Dense</span>)                │ ?                      │   <span style=\"color: #00af00; text-decoration-color: #00af00\">0</span> (unbuilt) │\n",
       "├─────────────────────────────────┼────────────────────────┼───────────────┤\n",
       "│ dense_19 (<span style=\"color: #0087ff; text-decoration-color: #0087ff\">Dense</span>)                │ ?                      │   <span style=\"color: #00af00; text-decoration-color: #00af00\">0</span> (unbuilt) │\n",
       "└─────────────────────────────────┴────────────────────────┴───────────────┘\n",
       "</pre>\n"
      ],
      "text/plain": [
       "┏━━━━━━━━━━━━━━━━━━━━━━━━━━━━━━━━━┳━━━━━━━━━━━━━━━━━━━━━━━━┳━━━━━━━━━━━━━━━┓\n",
       "┃\u001b[1m \u001b[0m\u001b[1mLayer (type)                   \u001b[0m\u001b[1m \u001b[0m┃\u001b[1m \u001b[0m\u001b[1mOutput Shape          \u001b[0m\u001b[1m \u001b[0m┃\u001b[1m \u001b[0m\u001b[1m      Param #\u001b[0m\u001b[1m \u001b[0m┃\n",
       "┡━━━━━━━━━━━━━━━━━━━━━━━━━━━━━━━━━╇━━━━━━━━━━━━━━━━━━━━━━━━╇━━━━━━━━━━━━━━━┩\n",
       "│ embedding_16 (\u001b[38;5;33mEmbedding\u001b[0m)        │ ?                      │   \u001b[38;5;34m0\u001b[0m (unbuilt) │\n",
       "├─────────────────────────────────┼────────────────────────┼───────────────┤\n",
       "│ lstm_19 (\u001b[38;5;33mLSTM\u001b[0m)                  │ ?                      │   \u001b[38;5;34m0\u001b[0m (unbuilt) │\n",
       "├─────────────────────────────────┼────────────────────────┼───────────────┤\n",
       "│ lstm_20 (\u001b[38;5;33mLSTM\u001b[0m)                  │ ?                      │   \u001b[38;5;34m0\u001b[0m (unbuilt) │\n",
       "├─────────────────────────────────┼────────────────────────┼───────────────┤\n",
       "│ dense_18 (\u001b[38;5;33mDense\u001b[0m)                │ ?                      │   \u001b[38;5;34m0\u001b[0m (unbuilt) │\n",
       "├─────────────────────────────────┼────────────────────────┼───────────────┤\n",
       "│ dense_19 (\u001b[38;5;33mDense\u001b[0m)                │ ?                      │   \u001b[38;5;34m0\u001b[0m (unbuilt) │\n",
       "└─────────────────────────────────┴────────────────────────┴───────────────┘\n"
      ]
     },
     "metadata": {},
     "output_type": "display_data"
    },
    {
     "data": {
      "text/html": [
       "<pre style=\"white-space:pre;overflow-x:auto;line-height:normal;font-family:Menlo,'DejaVu Sans Mono',consolas,'Courier New',monospace\"><span style=\"font-weight: bold\"> Total params: </span><span style=\"color: #00af00; text-decoration-color: #00af00\">0</span> (0.00 B)\n",
       "</pre>\n"
      ],
      "text/plain": [
       "\u001b[1m Total params: \u001b[0m\u001b[38;5;34m0\u001b[0m (0.00 B)\n"
      ]
     },
     "metadata": {},
     "output_type": "display_data"
    },
    {
     "data": {
      "text/html": [
       "<pre style=\"white-space:pre;overflow-x:auto;line-height:normal;font-family:Menlo,'DejaVu Sans Mono',consolas,'Courier New',monospace\"><span style=\"font-weight: bold\"> Trainable params: </span><span style=\"color: #00af00; text-decoration-color: #00af00\">0</span> (0.00 B)\n",
       "</pre>\n"
      ],
      "text/plain": [
       "\u001b[1m Trainable params: \u001b[0m\u001b[38;5;34m0\u001b[0m (0.00 B)\n"
      ]
     },
     "metadata": {},
     "output_type": "display_data"
    },
    {
     "data": {
      "text/html": [
       "<pre style=\"white-space:pre;overflow-x:auto;line-height:normal;font-family:Menlo,'DejaVu Sans Mono',consolas,'Courier New',monospace\"><span style=\"font-weight: bold\"> Non-trainable params: </span><span style=\"color: #00af00; text-decoration-color: #00af00\">0</span> (0.00 B)\n",
       "</pre>\n"
      ],
      "text/plain": [
       "\u001b[1m Non-trainable params: \u001b[0m\u001b[38;5;34m0\u001b[0m (0.00 B)\n"
      ]
     },
     "metadata": {},
     "output_type": "display_data"
    },
    {
     "name": "stdout",
     "output_type": "stream",
     "text": [
      "Epoch 1/32\n",
      "97/97 - 23s - 240ms/step - loss: 7.1898 - val_loss: 7.9966\n",
      "Epoch 2/32\n",
      "97/97 - 17s - 177ms/step - loss: 6.4024 - val_loss: 8.2081\n",
      "Epoch 3/32\n",
      "97/97 - 44s - 453ms/step - loss: 6.2744 - val_loss: 8.4663\n",
      "Epoch 4/32\n",
      "97/97 - 41s - 428ms/step - loss: 6.1505 - val_loss: 8.6937\n",
      "Epoch 5/32\n",
      "97/97 - 39s - 404ms/step - loss: 6.0207 - val_loss: 8.7270\n",
      "Epoch 6/32\n",
      "97/97 - 35s - 366ms/step - loss: 5.9192 - val_loss: 8.9046\n",
      "Epoch 7/32\n",
      "97/97 - 39s - 403ms/step - loss: 5.8446 - val_loss: 8.9316\n",
      "Epoch 8/32\n",
      "97/97 - 38s - 391ms/step - loss: 5.7733 - val_loss: 8.9699\n",
      "Epoch 9/32\n",
      "97/97 - 35s - 366ms/step - loss: 5.7010 - val_loss: 9.0660\n",
      "Epoch 10/32\n",
      "97/97 - 35s - 357ms/step - loss: 5.6160 - val_loss: 9.0327\n",
      "Epoch 11/32\n",
      "97/97 - 35s - 360ms/step - loss: 5.5287 - val_loss: 9.1245\n",
      "Epoch 12/32\n",
      "97/97 - 35s - 362ms/step - loss: 5.4448 - val_loss: 9.2134\n",
      "Epoch 13/32\n",
      "97/97 - 35s - 361ms/step - loss: 5.3736 - val_loss: 9.2280\n",
      "Epoch 14/32\n",
      "97/97 - 37s - 380ms/step - loss: 5.3080 - val_loss: 9.4068\n",
      "Epoch 15/32\n",
      "97/97 - 37s - 379ms/step - loss: 5.2505 - val_loss: 9.5104\n",
      "Epoch 16/32\n",
      "97/97 - 41s - 419ms/step - loss: 5.1947 - val_loss: 9.6714\n",
      "Epoch 17/32\n",
      "97/97 - 36s - 367ms/step - loss: 5.1402 - val_loss: 9.8429\n",
      "Epoch 18/32\n",
      "97/97 - 37s - 381ms/step - loss: 5.0903 - val_loss: 9.8881\n",
      "Epoch 19/32\n",
      "97/97 - 37s - 378ms/step - loss: 5.0340 - val_loss: 9.9134\n",
      "Epoch 20/32\n",
      "97/97 - 37s - 378ms/step - loss: 4.9819 - val_loss: 10.1857\n",
      "Epoch 21/32\n",
      "97/97 - 39s - 401ms/step - loss: 4.9233 - val_loss: 10.1099\n",
      "Epoch 22/32\n",
      "97/97 - 41s - 423ms/step - loss: 4.8680 - val_loss: 10.3570\n",
      "Epoch 23/32\n",
      "97/97 - 37s - 382ms/step - loss: 4.8133 - val_loss: 10.3665\n",
      "Epoch 24/32\n",
      "97/97 - 37s - 387ms/step - loss: 4.7532 - val_loss: 10.5614\n",
      "Epoch 25/32\n",
      "97/97 - 38s - 390ms/step - loss: 4.7013 - val_loss: 10.7209\n",
      "Epoch 26/32\n",
      "97/97 - 38s - 393ms/step - loss: 4.6461 - val_loss: 10.8736\n",
      "Epoch 27/32\n",
      "97/97 - 44s - 457ms/step - loss: 4.5902 - val_loss: 10.9987\n",
      "Epoch 28/32\n",
      "97/97 - 39s - 397ms/step - loss: 4.5391 - val_loss: 10.9515\n",
      "Epoch 29/32\n",
      "97/97 - 38s - 390ms/step - loss: 4.4880 - val_loss: 11.1330\n",
      "Epoch 30/32\n",
      "97/97 - 38s - 387ms/step - loss: 4.4377 - val_loss: 11.3549\n",
      "Epoch 31/32\n",
      "97/97 - 38s - 392ms/step - loss: 4.3831 - val_loss: 11.5068\n",
      "Epoch 32/32\n",
      "97/97 - 40s - 408ms/step - loss: 4.3381 - val_loss: 11.6011\n"
     ]
    }
   ],
   "source": [
    "training_model = Sequential()\n",
    "training_model.add(Embedding(output_dim=EMBEDDING_WIDTH, input_dim=MAX_WORDS, mask_zero=True, input_length=None))\n",
    "training_model.add(LSTM(128,return_sequences=True, dropout= 0.2, recurrent_dropout=0.2))\n",
    "training_model.add(LSTM(128, dropout= 0.2, recurrent_dropout=0.2))\n",
    "training_model.add(Dense(128,activation='relu'))\n",
    "training_model.add(Dense(MAX_WORDS,activation='softmax'))\n",
    "training_model.compile(loss = 'categorical_crossentropy', optimizer = 'adam')\n",
    "training_model.summary()\n",
    "history = training_model.fit(X,y, validation_split = 0.05, batch_size=BATCH_SIZE, epochs = EPOCHS, verbose = 2, shuffle = True)"
   ]
  },
  {
   "cell_type": "code",
   "execution_count": 40,
   "id": "5058f00a",
   "metadata": {},
   "outputs": [],
   "source": [
    "from tensorflow.keras.layers import Input"
   ]
  },
  {
   "cell_type": "code",
   "execution_count": 41,
   "id": "35d98b0e",
   "metadata": {},
   "outputs": [],
   "source": [
    "inference_model = Sequential()\n",
    "inference_model.add(Input(batch_shape=(1, 1)))\n",
    "inference_model.add(Embedding(output_dim=EMBEDDING_WIDTH, input_dim=MAX_WORDS, mask_zero=True))\n",
    "inference_model.add(LSTM(128,return_sequences=True, dropout= 0.2, recurrent_dropout=0.2, stateful=True))\n",
    "inference_model.add(LSTM(128, dropout= 0.2, recurrent_dropout=0.2))\n",
    "inference_model.add(Dense(128,activation='relu'))\n",
    "inference_model.add(Dense(MAX_WORDS,activation='softmax'))\n",
    "weights = training_model.get_weights()\n",
    "inference_model.set_weights(weights)\n"
   ]
  },
  {
   "cell_type": "code",
   "execution_count": 42,
   "id": "8bc03ccd",
   "metadata": {},
   "outputs": [
    {
     "name": "stdout",
     "output_type": "stream",
     "text": [
      "i saw the name and \n"
     ]
    }
   ],
   "source": [
    "first_words = ['i', 'saw']\n",
    "\n",
    "first_words_indexed = tokenizer.texts_to_sequences(first_words)\n",
    "for layer in inference_model.layers:\n",
    "    if hasattr(layer, 'reset_states'):\n",
    "        layer.reset_states()\n",
    "predicted_string = ''\n",
    "for i ,word_index in enumerate(first_words_indexed):\n",
    "    x = np.zeros((1,1), dtype=np.int64)\n",
    "    x[0][0] = word_index[0]\n",
    "    predicted_string+= first_words[i]\n",
    "    predicted_string += ' '\n",
    "    y_predict = inference_model.predict(x,verbose=0)[0]\n",
    "for i in range(PREDICT_LENGTH):\n",
    "    new_word_index = np.argmax(y_predict)\n",
    "    word = tokenizer.sequences_to_texts([[new_word_index]])\n",
    "    x[0][0] = new_word_index\n",
    "    predicted_string += word[0]\n",
    "    predicted_string += ' '\n",
    "    y_predict = inference_model.predict(x,verbose=0)[0]\n",
    "print(predicted_string)"
   ]
  }
 ],
 "metadata": {
  "kernelspec": {
   "display_name": ".venv",
   "language": "python",
   "name": "python3"
  },
  "language_info": {
   "codemirror_mode": {
    "name": "ipython",
    "version": 3
   },
   "file_extension": ".py",
   "mimetype": "text/x-python",
   "name": "python",
   "nbconvert_exporter": "python",
   "pygments_lexer": "ipython3",
   "version": "3.11.13"
  }
 },
 "nbformat": 4,
 "nbformat_minor": 5
}
