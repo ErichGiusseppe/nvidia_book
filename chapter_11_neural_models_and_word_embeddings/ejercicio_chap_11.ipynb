{
 "cells": [
  {
   "cell_type": "code",
   "execution_count": null,
   "id": "8dcde49b",
   "metadata": {},
   "outputs": [],
   "source": [
    "import numpy as np\n",
    "from tensorflow.keras.models import Sequential\n",
    "from tensorflow.keras.layers import Dense \n",
    "from tensorflow.keras.layers import LSTM\n",
    "from tensorflow.keras.layers import Embeddings\n",
    "from tensorflow.keras.preprocessing.text import Tokenizer\n",
    "from tensorflow.keras.preprocessing.text import text_to_word_sequence\n",
    "import tensorflow as tf\n",
    "import logging \n",
    "\\\n",
    "\n",
    "tf.get_logger().setLevel(logging.ERROR)\n",
    "\n",
    "EPOCHS = 32\n",
    "BATCH_SIZE = 256\n",
    "INPUT_FILE_NAME = '../data/frankenstein.txt'\n",
    "WINDOW_LENGHT = 40\n",
    "WINDOW_STEP = 3\n",
    "PREDICT_LENGTH = 8\n",
    "MAX_WORDS = 11\n",
    "EMBEDDING_WIDTH = 100\n"
   ]
  }
 ],
 "metadata": {
  "language_info": {
   "name": "python"
  }
 },
 "nbformat": 4,
 "nbformat_minor": 5
}
