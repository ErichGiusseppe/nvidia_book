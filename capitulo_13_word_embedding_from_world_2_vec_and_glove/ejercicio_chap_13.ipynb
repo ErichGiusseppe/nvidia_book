{
 "cells": [
  {
   "cell_type": "code",
   "execution_count": 3,
   "id": "0c12cdc7",
   "metadata": {},
   "outputs": [],
   "source": [
    "import numpy as np \n",
    "import scipy.spatial\n",
    "\n",
    "def read_embeddings():\n",
    "    FILE_NAME = '../data/glove.6B/glove.6B.100d.txt'\n",
    "    embeddings = {}\n",
    "    file = open(FILE_NAME,'r',encoding='utf-8')\n",
    "    for line in file:\n",
    "        values = line.split()\n",
    "        word = values[0]\n",
    "        vector = np.asarray(values[1:], dtype='float32')\n",
    "        embeddings[word] = vector \n",
    "    file.close()\n",
    "    print('Read %s embeddings. ' % len(embeddings))\n",
    "    return embeddings\n",
    "def print_n_closest(embeddings,vec0,n):\n",
    "    word_distances = {}\n",
    "    for (word, vec1) in embeddings.items():\n",
    "        distance = scipy.spatial.distance.cosine(\n",
    "            vec1,vec0\n",
    "        )\n",
    "        word_distances[distance] = word\n",
    "    for distance in sorted(word_distances.keys())[:n]:\n",
    "        word = word_distances[distance]\n",
    "        print(word + ': %6.3f' % distance)"
   ]
  },
  {
   "cell_type": "code",
   "execution_count": 4,
   "id": "da3dad94",
   "metadata": {},
   "outputs": [
    {
     "name": "stdout",
     "output_type": "stream",
     "text": [
      "Read 400000 embeddings. \n",
      "\n",
      "Words closest to hello\n",
      "hello:  0.000\n",
      "goodbye:  0.209\n",
      "hey:  0.283\n",
      "\n",
      "Words closest to precisely\n",
      "precisely:  0.000\n",
      "exactly:  0.147\n",
      "accurately:  0.293\n",
      "\n",
      "Words closest to dog\n",
      "dog:  0.000\n",
      "cat:  0.120\n",
      "dogs:  0.166\n"
     ]
    }
   ],
   "source": [
    "embeddings = read_embeddings()\n",
    "lookop_word = 'hello'\n",
    "print('\\nWords closest to ' + lookop_word)\n",
    "print_n_closest(embeddings,embeddings[lookop_word], 3)\n",
    "\n",
    "lookop_word = 'precisely'\n",
    "print('\\nWords closest to ' + lookop_word)\n",
    "print_n_closest(embeddings,embeddings[lookop_word], 3)\n",
    "\n",
    "\n",
    "lookop_word = 'dog'\n",
    "print('\\nWords closest to ' + lookop_word)\n",
    "print_n_closest(embeddings,embeddings[lookop_word], 3)"
   ]
  },
  {
   "cell_type": "code",
   "execution_count": 7,
   "id": "4a4e01de",
   "metadata": {},
   "outputs": [
    {
     "name": "stdout",
     "output_type": "stream",
     "text": [
      "\n",
      "Words closest to king\n",
      "king:  0.000\n",
      "prince:  0.232\n",
      "queen:  0.249\n"
     ]
    }
   ],
   "source": [
    "\n",
    "lookop_word = 'king'\n",
    "print('\\nWords closest to ' + lookop_word)\n",
    "print_n_closest(embeddings,embeddings[lookop_word], 3)"
   ]
  },
  {
   "cell_type": "code",
   "execution_count": 6,
   "id": "f76e95c5",
   "metadata": {},
   "outputs": [
    {
     "name": "stdout",
     "output_type": "stream",
     "text": [
      "\n",
      "Words closest to (king - man + woman)\n",
      "king:  0.145\n",
      "queen:  0.217\n",
      "monarch:  0.307\n"
     ]
    }
   ],
   "source": [
    "lookop_word = '(king - man + woman)'\n",
    "vec = embeddings['king']-embeddings['man']+embeddings['woman']\n",
    "print('\\nWords closest to ' + lookop_word)\n",
    "print_n_closest(embeddings,vec, 3)"
   ]
  },
  {
   "cell_type": "code",
   "execution_count": 8,
   "id": "e3534b01",
   "metadata": {},
   "outputs": [
    {
     "name": "stdout",
     "output_type": "stream",
     "text": [
      "\n",
      "Words closest to sweden\n",
      "sweden:  0.000\n",
      "denmark:  0.138\n",
      "norway:  0.193\n"
     ]
    }
   ],
   "source": [
    "\n",
    "lookop_word = 'sweden'\n",
    "print('\\nWords closest to ' + lookop_word)\n",
    "print_n_closest(embeddings,embeddings[lookop_word], 3)"
   ]
  },
  {
   "cell_type": "code",
   "execution_count": 9,
   "id": "7877fadb",
   "metadata": {},
   "outputs": [
    {
     "name": "stdout",
     "output_type": "stream",
     "text": [
      "\n",
      "Words closest to madrid\n",
      "madrid:  0.000\n",
      "barcelona:  0.157\n",
      "valencia:  0.197\n"
     ]
    }
   ],
   "source": [
    "\n",
    "lookop_word = 'madrid'\n",
    "print('\\nWords closest to ' + lookop_word)\n",
    "print_n_closest(embeddings,embeddings[lookop_word], 3)"
   ]
  },
  {
   "cell_type": "code",
   "execution_count": 10,
   "id": "93037962",
   "metadata": {},
   "outputs": [
    {
     "name": "stdout",
     "output_type": "stream",
     "text": [
      "\n",
      "Words closest to (madrid - spain + sweden)\n",
      "stockholm:  0.271\n",
      "sweden:  0.300\n",
      "copenhagen:  0.305\n"
     ]
    }
   ],
   "source": [
    "lookop_word = '(madrid - spain + sweden)'\n",
    "vec = embeddings['madrid']-embeddings['spain']+embeddings['sweden']\n",
    "print('\\nWords closest to ' + lookop_word)\n",
    "print_n_closest(embeddings,vec, 3)"
   ]
  }
 ],
 "metadata": {
  "kernelspec": {
   "display_name": ".venv",
   "language": "python",
   "name": "python3"
  },
  "language_info": {
   "codemirror_mode": {
    "name": "ipython",
    "version": 3
   },
   "file_extension": ".py",
   "mimetype": "text/x-python",
   "name": "python",
   "nbconvert_exporter": "python",
   "pygments_lexer": "ipython3",
   "version": "3.11.13"
  }
 },
 "nbformat": 4,
 "nbformat_minor": 5
}
