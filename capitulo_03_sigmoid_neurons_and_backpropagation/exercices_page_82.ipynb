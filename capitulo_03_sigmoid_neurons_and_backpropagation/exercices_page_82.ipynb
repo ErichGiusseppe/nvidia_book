{
 "cells": [
  {
   "cell_type": "code",
   "execution_count": null,
   "id": "fa08701d",
   "metadata": {},
   "outputs": [],
   "source": [
    "import numpy as np"
   ]
  },
  {
   "cell_type": "markdown",
   "id": "3a0802d0",
   "metadata": {},
   "source": [
    "Ejemplo de back propagarion en una red neuronal implementado de 0, en el ejemplo especifico de la compuerta XOR"
   ]
  },
  {
   "cell_type": "code",
   "execution_count": null,
   "id": "23258b87",
   "metadata": {},
   "outputs": [],
   "source": [
    "np.random.seed(3)\n",
    "\n",
    "LEARNING_RATE = 0.1\n",
    "index_list = [0, 1, 2, 3]\n",
    "\n",
    "x_train = [\n",
    "    np.array([1.0, -1.0, -1.0]),\n",
    "    np.array([1.0, -1.0, 1.0]),\n",
    "    np.array([1.0, 1.0, -1.0]),\n",
    "    np.array([1.0, 1.0, 1.0]),\n",
    "]\n",
    "y_train = [0.0, 1.0, 1.0, 0.0]"
   ]
  },
  {
   "cell_type": "code",
   "execution_count": null,
   "id": "44b8ff72",
   "metadata": {},
   "outputs": [],
   "source": []
  }
 ],
 "metadata": {
  "kernelspec": {
   "display_name": ".venv",
   "language": "python",
   "name": "python3"
  },
  "language_info": {
   "codemirror_mode": {
    "name": "ipython",
    "version": 3
   },
   "file_extension": ".py",
   "mimetype": "text/x-python",
   "name": "python",
   "nbconvert_exporter": "python",
   "pygments_lexer": "ipython3",
   "version": "3.11.13"
  }
 },
 "nbformat": 4,
 "nbformat_minor": 5
}
