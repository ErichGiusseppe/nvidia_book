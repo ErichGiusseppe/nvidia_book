{
 "cells": [
  {
   "cell_type": "code",
   "execution_count": null,
   "id": "fa08701d",
   "metadata": {},
   "outputs": [],
   "source": [
    "import numpy as np"
   ]
  },
  {
   "cell_type": "markdown",
   "id": "3a0802d0",
   "metadata": {},
   "source": [
    "Ejemplo de back propagarion en una red neuronal implementado de 0, en el ejemplo especifico de la compuerta XOR"
   ]
  },
  {
   "cell_type": "code",
   "execution_count": 11,
   "id": "23258b87",
   "metadata": {},
   "outputs": [],
   "source": [
    "np.random.seed(3)\n",
    "\n",
    "LEARNING_RATE = 0.1\n",
    "index_list = [0, 1, 2, 3]\n",
    "\n",
    "x_train = [\n",
    "    np.array([1.0, -1.0, -1.0]),\n",
    "    np.array([1.0, -1.0, 1.0]),\n",
    "    np.array([1.0, 1.0, -1.0]),\n",
    "    np.array([1.0, 1.0, 1.0]),\n",
    "]\n",
    "y_train = [0.0, 1.0, 1.0, 0.0]"
   ]
  },
  {
   "cell_type": "code",
   "execution_count": 12,
   "id": "44b8ff72",
   "metadata": {},
   "outputs": [],
   "source": [
    "def neuron_w(input_count):\n",
    "    weights = np.zeros(input_count + 1)\n",
    "    for i in range(1, (input_count + 1)):\n",
    "        weights[i] = np.random.uniform(-1.0, 1.0)\n",
    "    return weights\n",
    "\n",
    "\n",
    "n_w = [neuron_w(2), neuron_w(2), neuron_w(2)]\n",
    "n_y = [0, 0, 0]\n",
    "n_error = [0, 0, 0]"
   ]
  },
  {
   "cell_type": "code",
   "execution_count": 17,
   "id": "2ffafb89",
   "metadata": {},
   "outputs": [],
   "source": [
    "def show_learning():\n",
    "    print(\"Current weights\")\n",
    "    for i, w in enumerate(n_w):\n",
    "        print(f\"neuron {i}: w0 = {w[0]:5.2f} w1 = {w[1]:5.2f} w2 = {w[2]:5.2f}\")\n",
    "    print(\"------------------------------\")\n",
    "\n",
    "\n",
    "def forward_pass(x):\n",
    "    global n_y\n",
    "    n_y[0] = np.tanh(np.dot(n_w[0], x))\n",
    "    n_y[1] = np.tanh(np.dot(n_w[1], x))\n",
    "    n2_inputs = np.array([1.0, n_y[0], n_y[1]])\n",
    "    z2 = np.dot(n_w[2], n2_inputs)\n",
    "    n_y[2] = 1.0 / (1.0 + np.exp(-z2))\n",
    "\n",
    "\n",
    "def backward_pass(y_truth):\n",
    "    global n_error\n",
    "    error_prime = -(y_truth - n_y[2])\n",
    "    derivate = n_y[2] * (1.0 - n_y[2])\n",
    "    n_error[2] = error_prime * derivate\n",
    "    derivate = 1.0 - n_y[0] ** 2\n",
    "    n_error[0] = n_w[2][1] * n_error[2] * derivate\n",
    "    derivate = 1.0 - n_y[1] ** 2\n",
    "    n_error[1] = n_w[2][2] * n_error[2] * derivate\n",
    "\n",
    "def adjust_weights(x):\n",
    "    global n_w\n",
    "    n_w[0] -= (x * LEARNING_RATE * n_error[0])\n",
    "    n_w[1] -= (x * LEARNING_RATE * n_error[1])\n",
    "    n2_inputs = np.array([1.0,n_y[0],n_y[1]])\n",
    "    n_w[2] -= (n2_inputs * LEARNING_RATE * n_error[2])"
   ]
  },
  {
   "cell_type": "code",
   "execution_count": 18,
   "id": "c54cd09c",
   "metadata": {},
   "outputs": [
    {
     "name": "stdout",
     "output_type": "stream",
     "text": [
      "Current weights\n",
      "neuron 0: w0 =  0.01 w1 =  0.10 w2 =  0.40\n",
      "neuron 1: w0 =  0.01 w1 = -0.42 w2 =  0.01\n",
      "neuron 2: w0 = -0.01 w1 =  0.78 w2 =  0.80\n",
      "------------------------------\n",
      "Current weights\n",
      "neuron 0: w0 =  0.02 w1 =  0.11 w2 =  0.39\n",
      "neuron 1: w0 =  0.02 w1 = -0.41 w2 = -0.00\n",
      "neuron 2: w0 =  0.00 w1 =  0.78 w2 =  0.79\n",
      "------------------------------\n",
      "Current weights\n",
      "neuron 0: w0 =  0.01 w1 =  0.12 w2 =  0.40\n",
      "neuron 1: w0 =  0.01 w1 = -0.41 w2 =  0.01\n",
      "neuron 2: w0 = -0.01 w1 =  0.78 w2 =  0.79\n",
      "------------------------------\n",
      "Current weights\n",
      "neuron 0: w0 =  0.02 w1 =  0.11 w2 =  0.41\n",
      "neuron 1: w0 =  0.01 w1 = -0.41 w2 =  0.01\n",
      "neuron 2: w0 = -0.00 w1 =  0.78 w2 =  0.79\n",
      "------------------------------\n",
      "x1 = -1.0 x2 = -1.0 y = 0.4861\n",
      "x1 = -1.0 x2 =  1.0 y = 0.6369\n",
      "x1 =  1.0 x2 = -1.0 y = 0.3724\n",
      "x1 =  1.0 x2 =  1.0 y = 0.5229\n"
     ]
    }
   ],
   "source": [
    "all_correct = False\n",
    "while not all_correct:\n",
    "    all_correct = True\n",
    "    np.random.shuffle(index_list)\n",
    "    for i in index_list:\n",
    "        forward_pass(x_train[i])\n",
    "        backward_pass(y_train[i])\n",
    "        adjust_weights(x_train[i])\n",
    "        show_learning()\n",
    "    for i in range(len(x_train)):\n",
    "        forward_pass(x_train[i])\n",
    "        print(f\"x1 = {x_train[i][1]:4.1f} x2 = {x_train[i][2]:4.1f} y = {n_y[2]:.4f}\")\n",
    "        if(((y_train[i]) and (n_y[2] >= 0.5)) or ((y_train[i] >= 0.5) and (n_y[2]< 0.5))):\n",
    "            all_correct = True  "
   ]
  }
 ],
 "metadata": {
  "kernelspec": {
   "display_name": ".venv",
   "language": "python",
   "name": "python3"
  },
  "language_info": {
   "codemirror_mode": {
    "name": "ipython",
    "version": 3
   },
   "file_extension": ".py",
   "mimetype": "text/x-python",
   "name": "python",
   "nbconvert_exporter": "python",
   "pygments_lexer": "ipython3",
   "version": "3.11.13"
  }
 },
 "nbformat": 4,
 "nbformat_minor": 5
}
