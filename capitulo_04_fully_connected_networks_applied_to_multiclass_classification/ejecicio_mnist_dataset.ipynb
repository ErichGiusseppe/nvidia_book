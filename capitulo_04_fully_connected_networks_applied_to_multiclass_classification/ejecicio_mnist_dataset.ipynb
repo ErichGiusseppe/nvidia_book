{
 "cells": [
  {
   "cell_type": "code",
   "execution_count": 1,
   "id": "b2f7f7b7",
   "metadata": {},
   "outputs": [
    {
     "name": "stderr",
     "output_type": "stream",
     "text": [
      "2025-07-09 12:10:34.188113: I tensorflow/core/util/port.cc:153] oneDNN custom operations are on. You may see slightly different numerical results due to floating-point round-off errors from different computation orders. To turn them off, set the environment variable `TF_ENABLE_ONEDNN_OPTS=0`.\n",
      "2025-07-09 12:10:34.188559: I external/local_xla/xla/tsl/cuda/cudart_stub.cc:32] Could not find cuda drivers on your machine, GPU will not be used.\n",
      "2025-07-09 12:10:34.191324: I external/local_xla/xla/tsl/cuda/cudart_stub.cc:32] Could not find cuda drivers on your machine, GPU will not be used.\n",
      "2025-07-09 12:10:34.198127: E external/local_xla/xla/stream_executor/cuda/cuda_fft.cc:467] Unable to register cuFFT factory: Attempting to register factory for plugin cuFFT when one has already been registered\n",
      "WARNING: All log messages before absl::InitializeLog() is called are written to STDERR\n",
      "E0000 00:00:1752081034.210326  117091 cuda_dnn.cc:8579] Unable to register cuDNN factory: Attempting to register factory for plugin cuDNN when one has already been registered\n",
      "E0000 00:00:1752081034.213753  117091 cuda_blas.cc:1407] Unable to register cuBLAS factory: Attempting to register factory for plugin cuBLAS when one has already been registered\n",
      "W0000 00:00:1752081034.223678  117091 computation_placer.cc:177] computation placer already registered. Please check linkage and avoid linking the same target more than once.\n",
      "W0000 00:00:1752081034.223697  117091 computation_placer.cc:177] computation placer already registered. Please check linkage and avoid linking the same target more than once.\n",
      "W0000 00:00:1752081034.223699  117091 computation_placer.cc:177] computation placer already registered. Please check linkage and avoid linking the same target more than once.\n",
      "W0000 00:00:1752081034.223700  117091 computation_placer.cc:177] computation placer already registered. Please check linkage and avoid linking the same target more than once.\n",
      "2025-07-09 12:10:34.227776: I tensorflow/core/platform/cpu_feature_guard.cc:210] This TensorFlow binary is optimized to use available CPU instructions in performance-critical operations.\n",
      "To enable the following instructions: AVX2 AVX_VNNI FMA, in other operations, rebuild TensorFlow with the appropriate compiler flags.\n"
     ]
    }
   ],
   "source": [
    "from tensorflow.keras.datasets import mnist"
   ]
  },
  {
   "cell_type": "code",
   "execution_count": 13,
   "id": "9984f430",
   "metadata": {},
   "outputs": [
    {
     "name": "stdout",
     "output_type": "stream",
     "text": [
      "x_train shape : (60000, 28, 28)\n",
      "y_train shape : (60000,)\n",
      "x_test shape  : (10000, 28, 28)\n",
      "y_test shape  : (10000,)\n"
     ]
    }
   ],
   "source": [
    "print(f\"x_train shape : {x_train.shape}\")\n",
    "print(f\"y_train shape : {y_train.shape}\")\n",
    "print(f\"x_test shape  : {x_test.shape}\")\n",
    "print(f\"y_test shape  : {y_test.shape}\")"
   ]
  },
  {
   "cell_type": "code",
   "execution_count": null,
   "id": "905edb4c",
   "metadata": {},
   "outputs": [
    {
     "name": "stdout",
     "output_type": "stream",
     "text": [
      "label for first training example:  5\n",
      "---beginning of pattern for first training example---\n",
      "                                                        \n",
      "                                                        \n",
      "                                                        \n",
      "                                                        \n",
      "                                                        \n",
      "                        * * * * * * * * * * * *         \n",
      "                * * * * * * * * * * * * * * * *         \n",
      "              * * * * * * * * * * * * * * * *           \n",
      "              * * * * * * * * * * *                     \n",
      "                * * * * * * *   * *                     \n",
      "                  * * * * *                             \n",
      "                      * * * *                           \n",
      "                      * * * *                           \n",
      "                        * * * * * *                     \n",
      "                          * * * * * *                   \n",
      "                            * * * * * *                 \n",
      "                              * * * * *                 \n",
      "                                  * * * *               \n",
      "                            * * * * * * *               \n",
      "                        * * * * * * * *                 \n",
      "                    * * * * * * * * *                   \n",
      "                * * * * * * * * * *                     \n",
      "            * * * * * * * * * *                         \n",
      "        * * * * * * * * * *                             \n",
      "        * * * * * * * *                                 \n",
      "                                                        \n",
      "                                                        \n",
      "                                                        \n",
      "---end of pattern for first training example\n"
     ]
    }
   ],
   "source": [
    "print(\"label for first training example: \", y_train[0])\n",
    "print(\"---beginning of pattern for first training example---\")\n",
    "for line in x_train[0]:\n",
    "    for num in line:\n",
    "        if num > 0:\n",
    "            print(\"*\", end=\" \")\n",
    "        else:\n",
    "            print(\" \", end=\" \")\n",
    "    print(\"\")\n",
    "print(\"---end of pattern for first training example\")"
   ]
  },
  {
   "cell_type": "code",
   "execution_count": null,
   "id": "8433e5b7",
   "metadata": {},
   "outputs": [
    {
     "data": {
      "image/png": "[encoded data removed]",
      "text/plain": [
       "<Figure size 400x400 with 1 Axes>"
      ]
     },
     "metadata": {},
     "output_type": "display_data"
    }
   ],
   "source": [
    "import matplotlib.pyplot as plt\n",
    "\n",
    "image = x_train[0]\n",
    "label = y_train[0]\n",
    "\n",
    "plt.figure(figsize=(4, 4))\n",
    "plt.imshow(image, cmap=\"gray\")\n",
    "plt.title(f\"Label: {label}\", fontsize=14)\n",
    "plt.axis(\"off\")\n",
    "plt.show()"
   ]
  },
  {
   "cell_type": "code",
   "execution_count": 2,
   "id": "aaa2ba21",
   "metadata": {},
   "outputs": [],
   "source": [
    "(x_train, y_train), (x_test, y_test) = mnist.load_data()"
   ]
  },
  {
   "cell_type": "code",
   "execution_count": 3,
   "id": "729ce4f2",
   "metadata": {},
   "outputs": [
    {
     "data": {
      "text/plain": [
       "numpy.ndarray"
      ]
     },
     "execution_count": 3,
     "metadata": {},
     "output_type": "execute_result"
    }
   ],
   "source": [
    "type(x_train)"
   ]
  },
  {
   "cell_type": "code",
   "execution_count": 6,
   "id": "fac693d2",
   "metadata": {},
   "outputs": [
    {
     "data": {
      "text/plain": [
       "(60000, 28, 28)"
      ]
     },
     "execution_count": 6,
     "metadata": {},
     "output_type": "execute_result"
    }
   ],
   "source": [
    "x_train.shape"
   ]
  },
  {
   "cell_type": "code",
   "execution_count": null,
   "id": "23cfa484",
   "metadata": {},
   "outputs": [
    {
     "data": {
      "text/plain": [
       "(60000, 784)"
      ]
     },
     "execution_count": 5,
     "metadata": {},
     "output_type": "execute_result"
    }
   ],
   "source": [
    "import numpy as np"
   ]
  },
  {
   "cell_type": "code",
   "execution_count": 2,
   "id": "aae81a4e",
   "metadata": {},
   "outputs": [],
   "source": [
    "import numpy as np\n",
    "import matplotlib.pyplot as plt\n",
    "\n",
    "# import idx2numpy\n",
    "\n",
    "np.random.seed(7)\n",
    "\n",
    "LEARNING_RATE = 0.01\n",
    "EPOCHS = 20\n",
    "\n",
    "\n",
    "def read_minist():\n",
    "    (x_train, y_train), (x_test, y_test) = mnist.load_data()\n",
    "    train_labels = np.unique(y_train)\n",
    "    test_labels = np.unique(y_test)\n",
    "    x_train = x_train.reshape(60000, 784)\n",
    "    mean = np.mean(x_train)\n",
    "    stddev = np.std(x_train)\n",
    "    x_train = (x_train - mean) / stddev\n",
    "    x_test = x_test.reshape(10000, 784)\n",
    "    x_test = (x_test - mean) / stddev\n",
    "    y_train = np.zeros((60000, 10))\n",
    "    y_test = np.zeros((10000, 10))\n",
    "    for i, y in enumerate(train_labels):\n",
    "        y_train[i][y] = 1\n",
    "    for i, y in enumerate(test_labels):\n",
    "        y_test[i][y] = 1\n",
    "    return x_train, y_train, x_test, y_test\n",
    "\n",
    "\n",
    "x_train, y_train, x_test, y_test = read_minist()\n",
    "\n",
    "index_list = list(range(len(x_train)))"
   ]
  },
  {
   "cell_type": "code",
   "execution_count": 3,
   "id": "c8f36688",
   "metadata": {},
   "outputs": [
    {
     "data": {
      "text/plain": [
       "(60000, 784)"
      ]
     },
     "execution_count": 3,
     "metadata": {},
     "output_type": "execute_result"
    }
   ],
   "source": [
    "x_train.shape"
   ]
  },
  {
   "cell_type": "code",
   "execution_count": 4,
   "id": "068cbfa9",
   "metadata": {},
   "outputs": [],
   "source": [
    "def layer_w(neuron_count, input_count):\n",
    "    weights = np.zeros((neuron_count, input_count + 1))\n",
    "    for i in range(neuron_count):\n",
    "        for j in range(1, (input_count + 1)):\n",
    "            weights[i][j] = np.random.uniform(-0.1, 0.1)\n",
    "    return weights\n",
    "\n",
    "hidden_layer_w = layer_w(25, 784)\n",
    "hidden_layer_y = np.zeros(25)\n",
    "hidden_layer_error = np.zeros(25)\n",
    "\n",
    "output_layer_w = layer_w(10, 25)\n",
    "output_layer_y = np.zeros(10)\n",
    "output_layer_error = np.zeros(10)\n",
    "\n",
    "chart_x = []\n",
    "chart_y_train = []\n",
    "chart_y_test = []\n",
    "\n",
    "\n",
    "def show_learning(epoch_no, train_acc, test_acc):\n",
    "    global chart_x\n",
    "    global chart_y_train\n",
    "    global chart_y_test\n",
    "    print(f\"epoch no: {epoch_no} train_acc: {train_acc:6.4f} test_acc: {test_acc:6.4f}\")\n",
    "    chart_x.append(epoch_no + 1)\n",
    "    chart_y_train.append(1.0 - train_acc)\n",
    "    chart_y_test.append(1.0 - test_acc)\n",
    "\n",
    "\n",
    "def plot_learning():\n",
    "    plt.plot(chart_x, chart_y_train, \"r-\", label=\"training_error\")\n",
    "    plt.plot(chart_x, chart_y_test, \"b-\", label=\"test error\")\n",
    "    plt.axis([0, len(chart_x), 0.0, 1.0])\n",
    "    plt.xlabel(\"training epochs\")\n",
    "    plt.ylabel(\"error\")\n",
    "    plt.legend()\n",
    "    plt.show()\n",
    "\n",
    "\n",
    "def forward_pass(x):\n",
    "    global hidden_layer_y\n",
    "    global output_layer_y\n",
    "\n",
    "    for i, w in enumerate(hidden_layer_w):\n",
    "        z = np.dot(w, x)\n",
    "        hidden_layer_y[i] = np.tanh(z)\n",
    "    hidden_output_array = np.concatenate((np.array([1.0]), hidden_layer_y))\n",
    "    for i, w in enumerate(output_layer_w):\n",
    "        z = np.dot(w, hidden_output_array)\n",
    "        output_layer_y[i] = 1.0 / (1.0 + np.exp(-z))\n",
    "\n",
    "\n",
    "def backward_pass(y_truth):\n",
    "    global hidden_layer_error\n",
    "    global output_layer_error\n",
    "\n",
    "    for i, y in enumerate(output_layer_y):\n",
    "        error_prime = -(y_truth[i] - y)\n",
    "        derivate = y * (1.0 - y)\n",
    "        output_layer_error[i] = error_prime * derivate\n",
    "    for i, y in enumerate(hidden_layer_y):\n",
    "        error_weights = []\n",
    "        for w in output_layer_w:\n",
    "            error_weights.append(w[i + 1])\n",
    "        error_weight_array = np.array(error_weights)\n",
    "        derivate = 1.0 - y**2\n",
    "        weighted_error = np.dot(error_weight_array, output_layer_error)\n",
    "        hidden_layer_error[i] = weighted_error * derivate\n",
    "\n",
    "\n",
    "def adjust_weights(x):\n",
    "    global output_layer_w\n",
    "    global hidden_layer_w\n",
    "    for i, error in enumerate(hidden_layer_error):\n",
    "        hidden_layer_w[i] -= (x * LEARNING_RATE * error)\n",
    "    hidden_output_array = np.concatenate((np.array([1.0]), hidden_layer_y))\n",
    "    for i, error in enumerate(output_layer_error):\n",
    "        output_layer_w[i] -= (hidden_output_array * LEARNING_RATE * error)\n",
    "\n",
    "\n",
    "    "
   ]
  },
  {
   "cell_type": "code",
   "execution_count": 5,
   "id": "9b806045",
   "metadata": {},
   "outputs": [
    {
     "name": "stdout",
     "output_type": "stream",
     "text": [
      "epoch no: 0 train_acc: 0.5897 test_acc: 0.6580\n",
      "epoch no: 1 train_acc: 0.5877 test_acc: 0.6513\n",
      "epoch no: 2 train_acc: 0.6011 test_acc: 0.6442\n",
      "epoch no: 3 train_acc: 0.6205 test_acc: 0.6374\n",
      "epoch no: 4 train_acc: 0.6018 test_acc: 0.6326\n",
      "epoch no: 5 train_acc: 0.6173 test_acc: 0.6264\n",
      "epoch no: 6 train_acc: 0.5881 test_acc: 0.6237\n",
      "epoch no: 7 train_acc: 0.6132 test_acc: 0.6199\n",
      "epoch no: 8 train_acc: 0.6053 test_acc: 0.6161\n",
      "epoch no: 9 train_acc: 0.5892 test_acc: 0.6137\n",
      "epoch no: 10 train_acc: 0.5602 test_acc: 0.6130\n",
      "epoch no: 11 train_acc: 0.5546 test_acc: 0.6125\n",
      "epoch no: 12 train_acc: 0.5862 test_acc: 0.6098\n",
      "epoch no: 13 train_acc: 0.5703 test_acc: 0.6089\n",
      "epoch no: 14 train_acc: 0.5799 test_acc: 0.6073\n",
      "epoch no: 15 train_acc: 0.5909 test_acc: 0.6060\n",
      "epoch no: 16 train_acc: 0.6033 test_acc: 0.6041\n",
      "epoch no: 17 train_acc: 0.5554 test_acc: 0.6033\n",
      "epoch no: 18 train_acc: 0.5530 test_acc: 0.6023\n",
      "epoch no: 19 train_acc: 0.5931 test_acc: 0.6005\n"
     ]
    },
    {
     "data": {
      "image/png": "[encoded data removed]",
      "text/plain": [
       "<Figure size 640x480 with 1 Axes>"
      ]
     },
     "metadata": {},
     "output_type": "display_data"
    }
   ],
   "source": [
    "for i in range(EPOCHS):\n",
    "    np.random.shuffle(index_list)\n",
    "    correct_training_results = 0\n",
    "    for j in index_list:\n",
    "        x = np.concatenate((np.array([1.0]),x_train[j]))\n",
    "        forward_pass(x)\n",
    "        if output_layer_y.argmax() == y_train[j].argmax():\n",
    "            correct_training_results += 1\n",
    "        backward_pass(y_train[j])\n",
    "        adjust_weights(x)\n",
    "    correct_test_results = 0\n",
    "    for j in range(len(x_test)):\n",
    "        x = np.concatenate((np.array([1.0]),x_test[j]))\n",
    "        forward_pass(x)\n",
    "        if output_layer_y.argmax() == y_test[j].argmax():\n",
    "            correct_test_results += 1\n",
    "    show_learning(i,correct_training_results/len(x_train), correct_test_results/len(x_test))\n",
    "plot_learning()"
   ]
  }
 ],
 "metadata": {
  "kernelspec": {
   "display_name": ".venv",
   "language": "python",
   "name": "python3"
  },
  "language_info": {
   "codemirror_mode": {
    "name": "ipython",
    "version": 3
   },
   "file_extension": ".py",
   "mimetype": "text/x-python",
   "name": "python",
   "nbconvert_exporter": "python",
   "pygments_lexer": "ipython3",
   "version": "3.11.13"
  }
 },
 "nbformat": 4,
 "nbformat_minor": 5
}
