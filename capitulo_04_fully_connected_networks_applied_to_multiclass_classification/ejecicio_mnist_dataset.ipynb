{
 "cells": [
  {
   "cell_type": "code",
   "execution_count": 6,
   "id": "b2f7f7b7",
   "metadata": {},
   "outputs": [
    {
     "name": "stdout",
     "output_type": "stream",
     "text": [
      "Downloading data from https://storage.googleapis.com/tensorflow/tf-keras-datasets/mnist.npz\n",
      "\u001b[1m11490434/11490434\u001b[0m \u001b[32m━━━━━━━━━━━━━━━━━━━━\u001b[0m\u001b[37m\u001b[0m \u001b[1m1s\u001b[0m 0us/step\n"
     ]
    }
   ],
   "source": [
    "from tensorflow.keras.datasets import mnist\n",
    "\n",
    "(x_train, y_train), (x_test, y_test) = mnist.load_data()"
   ]
  },
  {
   "cell_type": "code",
   "execution_count": 13,
   "id": "9984f430",
   "metadata": {},
   "outputs": [
    {
     "name": "stdout",
     "output_type": "stream",
     "text": [
      "x_train shape : (60000, 28, 28)\n",
      "y_train shape : (60000,)\n",
      "x_test shape  : (10000, 28, 28)\n",
      "y_test shape  : (10000,)\n"
     ]
    }
   ],
   "source": [
    "print(f\"x_train shape : {x_train.shape}\")\n",
    "print(f\"y_train shape : {y_train.shape}\")\n",
    "print(f\"x_test shape  : {x_test.shape}\")\n",
    "print(f\"y_test shape  : {y_test.shape}\")"
   ]
  },
  {
   "cell_type": "code",
   "execution_count": 15,
   "id": "905edb4c",
   "metadata": {},
   "outputs": [
    {
     "name": "stdout",
     "output_type": "stream",
     "text": [
      "label for first training example:  5\n",
      "---beginning of pattern for first training example---\n",
      "                                                        \n",
      "                                                        \n",
      "                                                        \n",
      "                                                        \n",
      "                                                        \n",
      "                        * * * * * * * * * * * *         \n",
      "                * * * * * * * * * * * * * * * *         \n",
      "              * * * * * * * * * * * * * * * *           \n",
      "              * * * * * * * * * * *                     \n",
      "                * * * * * * *   * *                     \n",
      "                  * * * * *                             \n",
      "                      * * * *                           \n",
      "                      * * * *                           \n",
      "                        * * * * * *                     \n",
      "                          * * * * * *                   \n",
      "                            * * * * * *                 \n",
      "                              * * * * *                 \n",
      "                                  * * * *               \n",
      "                            * * * * * * *               \n",
      "                        * * * * * * * *                 \n",
      "                    * * * * * * * * *                   \n",
      "                * * * * * * * * * *                     \n",
      "            * * * * * * * * * *                         \n",
      "        * * * * * * * * * *                             \n",
      "        * * * * * * * *                                 \n",
      "                                                        \n",
      "                                                        \n",
      "                                                        \n",
      "---end of pattern for first training example\n"
     ]
    }
   ],
   "source": [
    "print(\"label for first training example: \", y_train[0])\n",
    "print(\"---beginning of pattern for first training example---\")\n",
    "for line in x_train[0]:\n",
    "    for num in line: \n",
    "        if num > 0:\n",
    "            print('*',end=' ')\n",
    "        else:\n",
    "            print(' ', end=' ')\n",
    "    print('')\n",
    "print('---end of pattern for first training example')\n"
   ]
  },
  {
   "cell_type": "code",
   "execution_count": null,
   "id": "8433e5b7",
   "metadata": {},
   "outputs": [
    {
     "data": {
      "image/png": "[encoded data removed]",
      "text/plain": [
       "<Figure size 400x400 with 1 Axes>"
      ]
     },
     "metadata": {},
     "output_type": "display_data"
    }
   ],
   "source": [
    "import matplotlib.pyplot as plt\n",
    "\n",
    "image = x_train[0]\n",
    "label = y_train[0]\n",
    "\n",
    "plt.figure(figsize=(4, 4))\n",
    "plt.imshow(image, cmap='gray') \n",
    "plt.title(f\"Label: {label}\", fontsize=14)\n",
    "plt.axis('off') \n",
    "plt.show()"
   ]
  },
  {
   "cell_type": "code",
   "execution_count": null,
   "id": "aae81a4e",
   "metadata": {},
   "outputs": [],
   "source": []
  }
 ],
 "metadata": {
  "kernelspec": {
   "display_name": ".venv",
   "language": "python",
   "name": "python3"
  },
  "language_info": {
   "codemirror_mode": {
    "name": "ipython",
    "version": 3
   },
   "file_extension": ".py",
   "mimetype": "text/x-python",
   "name": "python",
   "nbconvert_exporter": "python",
   "pygments_lexer": "ipython3",
   "version": "3.11.13"
  }
 },
 "nbformat": 4,
 "nbformat_minor": 5
}
